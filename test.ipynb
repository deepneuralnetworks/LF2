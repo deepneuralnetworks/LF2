{
 "cells": [
  {
   "cell_type": "code",
   "execution_count": 1,
   "id": "199e9ffa",
   "metadata": {},
   "outputs": [],
   "source": [
    "from time import time\n",
    "def tick(msg):\n",
    "    global s\n",
    "    t = time()\n",
    "    print('%s: %f seconds.' % (msg, t - s))\n",
    "    s = t"
   ]
  },
  {
   "cell_type": "code",
   "execution_count": 1,
   "id": "317d93c1",
   "metadata": {},
   "outputs": [],
   "source": [
    "import lf2gym"
   ]
  },
  {
   "cell_type": "code",
   "execution_count": 2,
   "id": "032417da",
   "metadata": {},
   "outputs": [],
   "source": [
    "AGENT = 'Davis'\n",
    "OPPOENENT = 'Dennis'\n",
    "ACTIONS = [0, 0, 4, 4, 4, 2, 2, 2, 3, 3, 3, 1, 1, 1, 0, 0, 0, 9, 9, 9, 9, 0, 0, 0, 4, 0, 4, 0, 0, 0, 12, 0, 0, 0, 0, 0, 0]"
   ]
  },
  {
   "cell_type": "code",
   "execution_count": null,
   "id": "7d7fd65f",
   "metadata": {},
   "outputs": [
    {
     "name": "stdout",
     "output_type": "stream",
     "text": [
      "Starting LF2 server on ('127.0.0.1', 8000)...\n",
      "LF2 server started.\n",
      "Creating LF2 environment...\n",
      "Starting a web driver...\n"
     ]
    },
    {
     "name": "stderr",
     "output_type": "stream",
     "text": [
      "C:\\Users\\dmqa\\.conda\\envs\\torch_main\\lib\\site-packages\\selenium\\webdriver\\phantomjs\\webdriver.py:49: UserWarning: Selenium support for PhantomJS has been deprecated, please use headless versions of Chrome or Firefox instead\n",
      "  warnings.warn('Selenium support for PhantomJS has been deprecated, please use headless '\n"
     ]
    },
    {
     "name": "stdout",
     "output_type": "stream",
     "text": [
      "Connecting to game server [http://127.0.0.1:8000]...\n",
      "Wrapping env with LF2SkipNWrapper, N = 4...\n",
      "Original reset options: {'ai_epsilon': None, 'hp_full': 500, 'mp_full': 500, 'mp_start': 500}\n",
      "Custom reset options: {'ai_epsilon': None, 'hp_full': 100, 'mp_full': 500, 'mp_start': 250}\n"
     ]
    }
   ],
   "source": [
    "env = lf2gym.make(startServer=True, \n",
    "                  wrap='skip4', \n",
    "                  headless=True, \n",
    "                  driverType=lf2gym.WebDriver.PhantomJS,\n",
    "                  characters=[lf2gym.Character[AGENT], lf2gym.Character[OPPOENENT]],\n",
    "                  difficulty=lf2gym.Difficulty.Dumbass, \n",
    "                  debug=True)\n",
    "\n",
    "# Set the reset options\n",
    "options = env.get_reset_options();\n",
    "print('Original reset options: %s' % options)\n",
    "options['hp_full'] = 100\n",
    "options['mp_start'] = 250\n",
    "print('Custom reset options: %s' % options)\n",
    "\n",
    "# Reset the env\n",
    "env.reset(options)\n",
    "print(\"Reset Environments\")\n",
    "\n",
    "# Start to record the screen\n",
    "env.start_recording()\n",
    "print(\"Start Recording\")\n",
    "\n",
    "# Skip 200 steps (i.e. 800 frames in skip-4 wrapping)\n",
    "env.idle(200)\n",
    "\n",
    "# Loop starts\n",
    "s = time()\n",
    "for act in ACTIONS:\n",
    "    print(act)\n",
    "    # Take an action\n",
    "    env.step(act)\n",
    "    # Render the screen\n",
    "    env.render()\n",
    "    # Print out the current and the previous actions as well as the time duration\n",
    "    tick(env.action_info())\n",
    "    \n",
    "# Stop recording and save to a file\n",
    "env.stop_recording()\n",
    "env.save_recording('test.avi')"
   ]
  },
  {
   "cell_type": "code",
   "execution_count": null,
   "id": "51650c6a",
   "metadata": {},
   "outputs": [],
   "source": []
  }
 ],
 "metadata": {
  "kernelspec": {
   "display_name": "torch_main",
   "language": "python",
   "name": "torch_main"
  },
  "language_info": {
   "codemirror_mode": {
    "name": "ipython",
    "version": 3
   },
   "file_extension": ".py",
   "mimetype": "text/x-python",
   "name": "python",
   "nbconvert_exporter": "python",
   "pygments_lexer": "ipython3",
   "version": "3.8.8"
  }
 },
 "nbformat": 4,
 "nbformat_minor": 5
}
